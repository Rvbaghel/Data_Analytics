{
 "cells": [
  {
   "cell_type": "markdown",
   "id": "4e11059f",
   "metadata": {},
   "source": [
    "# Unit 2 Descriptive Statistics"
   ]
  },
  {
   "cell_type": "markdown",
   "id": "fb96625e",
   "metadata": {},
   "source": [
    "# 📍Mean\n",
    "### The mean is usually referred to as 'the average'.\n",
    "### The mean is the sum of all the values in the data divided by the total number of values in the data.\n",
    "\n",
    "# 📍Medain\n",
    "### The median is the middle value in a data set ordered from low to high.\n",
    "\n",
    "# 📍Mode\n",
    "\n",
    "### The mode is the values that are the most common in the data.\n",
    "### A dataset can have multiple values that are modes.\n",
    "### A distribution of values with only one mode is called unimodal.\n",
    "### A distribution of values with two modes is called bimodal.\n",
    "### Mode can be found for both categorical and numerical data.\n",
    "\n",
    "# 📍Count\n",
    "### The count() function is use to find the number of null value across the row.\n",
    "\n",
    "# 📍Variation\n",
    "\n",
    "### Variation is a measure of how spread out the data is around the center of the data.\n",
    "### There are different measures of variation. The most commonly used are :\n",
    "\n",
    "### Range\n",
    "### Quartiles and Percentiles\n",
    "### Interquartile Range\n",
    "### Variance\n",
    "### Standard Deviation\n",
    "\n",
    "# 📍Range\n",
    "### The range is the difference between the smallest and the largest value of the data.\n",
    "\n",
    "# 📍Quartiles and Percentiles\n",
    "### Quartiles and percentiles are ways of separating equal numbers of values in the data into parts.\n",
    "### The quartiles (Q0,Q1,Q2,Q3,Q4) are the values that separate each quarter.\n",
    "### Between Q0 and Q1 are the 25% lowest values in the data. Between Q1 and Q2 are the next 25%. And so on.\n",
    "### Quartiles are values that separate the data into four equal parts.\n",
    "### Percentiles are values that separate the data into 100 equal parts.\n",
    "\n",
    "# 📍Interquartile Range\n",
    "### Interquartile range is the difference between the first and third quartiles (Q1 and Q3).\n",
    "### The 'middle half' of the data is between the first and third quartile.\n",
    "\n",
    "# 📍Variance\n",
    "### Variance is a measurement of the spread between numbers in a data set.\n",
    "### It measures the degree of dispersion of data around the sample's mean.\n",
    "### Here we can find out the Variance of Height by using :\n",
    "\n",
    "# 📍Standard Deviation\n",
    "### Standard deviation is the most used measure of variation.\n",
    "### Standard deviation (σ) measures how far a 'typical' observation is from the average of the data (μ).\n",
    "\n",
    "# 📍Pandas describe() Method\n",
    "### The describe() method returns description of the data in the DataFrame.\n",
    "### If the DataFrame contains numerical data, the description contains these information for each column :\n",
    "\n",
    "### count - The number of not-empty values.\n",
    "### mean - The average (mean) value.\n",
    "### std - The standard deviation.\n",
    "### min - the minimum value.\n",
    "### 25% - The 25% percentile.\n",
    "### 50% - The 50% percentile.\n",
    "### 75% - The 75% percentile.\n",
    "### max - the maximum value."
   ]
  },
  {
   "cell_type": "code",
   "execution_count": 1,
   "id": "27758871",
   "metadata": {},
   "outputs": [],
   "source": [
    "import numpy as np\n",
    "import pandas as pd\n",
    "from scipy import stats\n",
    "from statistics import mean, median, mode\n",
    "import matplotlib.pyplot as plt\n",
    "import seaborn as sns"
   ]
  },
  {
   "cell_type": "markdown",
   "id": "f1abac76",
   "metadata": {},
   "source": [
    "# USing Array"
   ]
  },
  {
   "cell_type": "code",
   "execution_count": 8,
   "id": "ccec0942",
   "metadata": {},
   "outputs": [
    {
     "name": "stdout",
     "output_type": "stream",
     "text": [
      "Mean: 168.125\n",
      "Median: 169.0\n",
      "Mode: 155\n"
     ]
    }
   ],
   "source": [
    "arr = np.array([165, 170, 155, 172, 168, 175, 160, 180])\n",
    "\n",
    "# Mean\n",
    "mean_arr = np.mean(arr)\n",
    "print(\"Mean:\", mean_arr)\n",
    "\n",
    "# Median\n",
    "median_arr = np.median(arr)\n",
    "print(\"Median:\", median_arr)\n",
    "\n",
    "# Mode (using SciPy)\n",
    "mode_arr = stats.mode(arr)\n",
    "print(\"Mode:\", mode_arr.mode)"
   ]
  },
  {
   "cell_type": "code",
   "execution_count": 22,
   "id": "ad7d05e4",
   "metadata": {},
   "outputs": [],
   "source": [
    "arr = np.array([12, 15, 14, 10, 18, 12, 20, 12, 15, 18])\n",
    "\n",
    "# Range\n",
    "range_arr = np.max(arr) - np.min(arr)\n",
    "\n",
    "# Interquartile Range (IQR)\n",
    "iqr_arr = np.percentile(arr, 75) - np.percentile(arr, 25)\n",
    "\n",
    "# Variance\n",
    "variance_arr = np.var(arr, ddof=1)  # ddof=1 for sample variance\n",
    "\n",
    "# Standard Deviation\n",
    "std_dev_arr = np.std(arr, ddof=1)\n",
    "\n",
    "# Coefficient of Variation (CV)\n",
    "cv_arr = (std_dev_arr / np.mean(arr)) * 100\n",
    "\n"
   ]
  },
  {
   "cell_type": "code",
   "execution_count": 27,
   "id": "5f727999",
   "metadata": {},
   "outputs": [],
   "source": [
    "arr1 = np.array([12, 15, 14, 10, 18, 12, 20, 12, 15, 18])\n",
    "arr2 = np.array([8, 9, 7, 6, 10, 8, 11, 9, 8, 10])\n",
    "\n",
    "# Covariance\n",
    "cov_arr = np.cov(arr1, arr2, ddof=1)[0, 1]\n",
    "\n",
    "# Correlation Coefficient\n",
    "corr_arr = np.corrcoef(arr1, arr2)[0, 1]\n",
    "\n",
    "# Interpretation\n",
    "cov_interpretation = \"Positive relationship\" if cov_arr > 0 else \"Negative relationship\" if cov_arr < 0 else \"No relationship\"\n",
    "corr_interpretation = \"Strong relationship\" if abs(corr_arr) > 0.7 else \"Moderate relationship\" if 0.3 <= abs(corr_arr) <= 0.7 else \"Weak relationship\"\n"
   ]
  },
  {
   "cell_type": "code",
   "execution_count": null,
   "id": "ad65fea4",
   "metadata": {},
   "outputs": [],
   "source": [
    "arr = np.array([12, 15, 14, 10, 18, 12, 20, 12, 100, 15])  # 100 is an outlier\n",
    "\n",
    "# Shape: Skewness & Kurtosis\n",
    "skew_arr = ((np.mean(arr) - np.median(arr)) / np.std(arr))  # Approximate skewness\n",
    "kurt_arr = np.sum((arr - np.mean(arr)) ** 4) / (len(arr) * (np.std(arr) ** 4)) - 3\n",
    "\n",
    "# Z-Scores\n",
    "z_scores_arr = (arr - np.mean(arr)) / np.std(arr)\n",
    "\n",
    "# Detecting Outliers using Z-Score\n",
    "outliers_arr = arr[np.abs(z_scores_arr) > 3]\n",
    "\n",
    "# Empirical Rule\n",
    "mean_arr = np.mean(arr)\n",
    "std_arr = np.std(arr)\n",
    "empirical_arr = arr[(arr >= mean_arr - 3 * std_arr) & (arr <= mean_arr + 3 * std_arr)]\n",
    "\n",
    "# Box Plot for Outlier Detection\n",
    "plt.figure(figsize=(6, 4))\n",
    "plt.boxplot(arr, vert=False)\n",
    "plt.title('Box Plot - Array')\n",
    "plt.show()"
   ]
  },
  {
   "cell_type": "markdown",
   "id": "210f0c39",
   "metadata": {},
   "source": [
    "# USing List"
   ]
  },
  {
   "cell_type": "code",
   "execution_count": 13,
   "id": "576da65e",
   "metadata": {},
   "outputs": [
    {
     "name": "stdout",
     "output_type": "stream",
     "text": [
      "35.5\n",
      "35.0\n",
      "35\n"
     ]
    }
   ],
   "source": [
    "lst = [30, 35, 40, 38, 36, 35, 32, 34, 40, 35]\n",
    "\n",
    "# Mean\n",
    "mean_lst = mean(lst)\n",
    "print(mean_lst)\n",
    "# Median\n",
    "median_lst = median(lst)\n",
    "print(median_lst)\n",
    "# Mode\n",
    "mode_lst = mode(lst)\n",
    "print(mode_lst)"
   ]
  },
  {
   "cell_type": "code",
   "execution_count": 21,
   "id": "3cf653f1",
   "metadata": {},
   "outputs": [],
   "source": [
    "lst = [30, 35, 40, 38, 36, 35, 32, 34, 40, 35]\n",
    "\n",
    "# Range\n",
    "range_lst = max(lst) - min(lst)\n",
    "\n",
    "# Interquartile Range (IQR)\n",
    "q75, q25 = np.percentile(lst, [75, 25])\n",
    "iqr_lst = q75 - q25\n",
    "\n",
    "# Variance\n",
    "variance_lst = np.var(lst, ddof=1)\n",
    "\n",
    "# Standard Deviation\n",
    "std_dev_lst = np.std(lst, ddof=1)\n",
    "\n",
    "# Coefficient of Variation (CV)\n",
    "cv_lst = (std_dev_lst / np.mean(lst)) * 100\n"
   ]
  },
  {
   "cell_type": "code",
   "execution_count": 28,
   "id": "343e6892",
   "metadata": {},
   "outputs": [],
   "source": [
    "lst1 = [30, 35, 40, 38, 36, 35, 32, 34, 40, 35]\n",
    "lst2 = [5, 6, 8, 7, 6, 5, 6, 5, 8, 6]\n",
    "\n",
    "# Covariance\n",
    "cov_lst = np.cov(lst1, lst2, ddof=1)[0, 1]\n",
    "\n",
    "# Correlation Coefficient\n",
    "corr_lst = np.corrcoef(lst1, lst2)[0, 1]\n",
    "\n",
    "# Interpretation\n",
    "cov_interpretation = \"Positive relationship\" if cov_lst > 0 else \"Negative relationship\" if cov_lst < 0 else \"No relationship\"\n",
    "corr_interpretation = \"Strong relationship\" if abs(corr_lst) > 0.7 else \"Moderate relationship\" if 0.3 <= abs(corr_lst) <= 0.7 else \"Weak relationship\"\n"
   ]
  },
  {
   "cell_type": "code",
   "execution_count": null,
   "id": "577dfca0",
   "metadata": {},
   "outputs": [],
   "source": [
    "lst = [30, 35, 40, 38, 36, 35, 32, 34, 150, 35]  # 150 is an outlier\n",
    "\n",
    "# Shape: Skewness & Kurtosis\n",
    "skew_lst = ((np.mean(lst) - np.median(lst)) / np.std(lst))  # Approximate skewness\n",
    "kurt_lst = np.sum((np.array(lst) - np.mean(lst)) ** 4) / (len(lst) * (np.std(lst) ** 4)) - 3\n",
    "\n",
    "# Z-Scores\n",
    "z_scores_lst = (np.array(lst) - np.mean(lst)) / np.std(lst)\n",
    "\n",
    "# Detecting Outliers using Z-Score\n",
    "outliers_lst = [lst[i] for i in range(len(lst)) if np.abs(z_scores_lst[i]) > 3]\n",
    "\n",
    "# Empirical Rule\n",
    "mean_lst = np.mean(lst)\n",
    "std_lst = np.std(lst)\n",
    "empirical_lst = [x for x in lst if mean_lst - 3 * std_lst <= x <= mean_lst + 3 * std_lst]\n",
    "\n",
    "# Box Plot for Outlier Detection\n",
    "plt.figure(figsize=(6, 4))\n",
    "plt.boxplot(lst, vert=False)\n",
    "plt.title('Box Plot - List')\n",
    "plt.show()\n",
    "\n"
   ]
  },
  {
   "cell_type": "markdown",
   "id": "f9b2606a",
   "metadata": {},
   "source": [
    "# Using DataFrame"
   ]
  },
  {
   "cell_type": "code",
   "execution_count": 2,
   "id": "181a1dca",
   "metadata": {},
   "outputs": [
    {
     "name": "stdout",
     "output_type": "stream",
     "text": [
      "Mean:\n",
      " Height    168.125\n",
      "Weight     67.500\n",
      "dtype: float64\n",
      "\n",
      "Median:\n",
      " Height    169.0\n",
      "Weight     69.0\n",
      "dtype: float64\n",
      "\n",
      "Mode:\n",
      "    Height  Weight\n",
      "0     155      55\n",
      "1     160      58\n",
      "2     165      60\n",
      "3     168      68\n",
      "4     170      70\n",
      "5     172      72\n",
      "6     175      75\n",
      "7     180      82\n"
     ]
    }
   ],
   "source": [
    "data = {\"Height\": [165, 170, 155, 172, 168, 175, 160, 180],\n",
    "    \"Weight\": [60, 72, 55, 68, 70, 75, 58, 82]}\n",
    "df = pd.DataFrame(data)\n",
    "\n",
    "# Mean (for all numeric columns)\n",
    "mean_df = df.mean()\n",
    "print(\"Mean:\\n\", mean_df)\n",
    "\n",
    "# Median (for all numeric columns)\n",
    "median_df = df.median()\n",
    "print(\"\\nMedian:\\n\", median_df)\n",
    "\n",
    "# Mode (returns the most frequent value(s))\n",
    "mode_df = df.mode()\n",
    "print(\"\\nMode:\\n\", mode_df)\n"
   ]
  },
  {
   "cell_type": "code",
   "execution_count": 7,
   "id": "db18a2ff",
   "metadata": {},
   "outputs": [
    {
     "name": "stdout",
     "output_type": "stream",
     "text": [
      "86.7\n",
      "86.5\n",
      "78\n"
     ]
    }
   ],
   "source": [
    "data = {'Marks': [78, 85, 92, 88, 84, 78, 95, 90, 92, 85]}\n",
    "df = pd.DataFrame(data)\n",
    "\n",
    "# Mean\n",
    "mean_df = df['Marks'].mean()\n",
    "print(mean_df)\n",
    "\n",
    "# Median\n",
    "median_df = df['Marks'].median()\n",
    "print(median_df)\n",
    "# Mode\n",
    "mode_df = df['Marks'].mode().iloc[0]\n",
    "print(mode_df)"
   ]
  },
  {
   "cell_type": "code",
   "execution_count": 20,
   "id": "7c946874",
   "metadata": {},
   "outputs": [],
   "source": [
    "data = {'Marks': [78, 85, 92, 88, 84, 78, 95, 90, 92, 85]}\n",
    "df = pd.DataFrame(data)\n",
    "\n",
    "# Range\n",
    "range_df = df['Marks'].max() - df['Marks'].min()\n",
    "\n",
    "# Interquartile Range (IQR)\n",
    "iqr_df = df['Marks'].quantile(0.75) - df['Marks'].quantile(0.25)\n",
    "\n",
    "# Variance\n",
    "variance_df = df['Marks'].var()\n",
    "\n",
    "# Standard Deviation\n",
    "std_dev_df = df['Marks'].std()\n",
    "\n",
    "# Coefficient of Variation (CV)\n",
    "cv_df = (std_dev_df / df['Marks'].mean()) * 100\n"
   ]
  },
  {
   "cell_type": "code",
   "execution_count": 26,
   "id": "687d05d5",
   "metadata": {},
   "outputs": [],
   "source": [
    "data = {'Marks': [78, 85, 92, 88, 84, 78, 95, 90, 92, 85],\n",
    "        'Hours_Studied': [8, 9, 10, 9, 7, 8, 10, 9, 9, 8]}\n",
    "df = pd.DataFrame(data)\n",
    "\n",
    "# Covariance\n",
    "cov_df = df['Marks'].cov(df['Hours_Studied'])\n",
    "\n",
    "# Correlation Coefficient\n",
    "corr_df = df['Marks'].corr(df['Hours_Studied'])\n",
    "\n",
    "# Interpretation\n",
    "cov_interpretation = \"Positive relationship\" if cov_df > 0 else \"Negative relationship\" if cov_df < 0 else \"No relationship\"\n",
    "corr_interpretation = \"Strong relationship\" if abs(corr_df) > 0.7 else \"Moderate relationship\" if 0.3 <= abs(corr_df) <= 0.7 else \"Weak relationship\"\n"
   ]
  },
  {
   "cell_type": "code",
   "execution_count": null,
   "id": "2262fd25",
   "metadata": {},
   "outputs": [],
   "source": [
    "data = {'Marks': [78, 85, 92, 88, 84, 78, 95, 90, 120, 85]}  # 120 is an outlier\n",
    "df = pd.DataFrame(data)\n",
    "\n",
    "# Shape: Skewness & Kurtosis\n",
    "skew_df = df['Marks'].skew()\n",
    "kurt_df = df['Marks'].kurtosis()\n",
    "\n",
    "# Z-Scores\n",
    "df['Z_Score'] = (df['Marks'] - df['Marks'].mean()) / df['Marks'].std()\n",
    "\n",
    "# Detecting Outliers using Z-Score\n",
    "outliers_df = df[np.abs(df['Z_Score']) > 3]\n",
    "\n",
    "# Empirical Rule\n",
    "mean_df = df['Marks'].mean()\n",
    "std_df = df['Marks'].std()\n",
    "empirical_df = df[(df['Marks'] >= mean_df - 3 * std_df) & (df['Marks'] <= mean_df + 3 * std_df)]\n",
    "\n",
    "# Box Plot for Outlier Detection\n",
    "plt.figure(figsize=(6, 4))\n",
    "sns.boxplot(x=df['Marks'])\n",
    "plt.title('Box Plot - DataFrame')\n",
    "plt.show()\n"
   ]
  },
  {
   "cell_type": "markdown",
   "id": "f3e64b42",
   "metadata": {},
   "source": [
    "# Using CSV File"
   ]
  },
  {
   "cell_type": "code",
   "execution_count": 4,
   "id": "4e58f56b",
   "metadata": {},
   "outputs": [],
   "source": [
    "data= pd.read_csv('2.2 Table data.csv')"
   ]
  },
  {
   "cell_type": "code",
   "execution_count": 5,
   "id": "439f0136",
   "metadata": {},
   "outputs": [
    {
     "data": {
      "text/plain": [
       "0     14\n",
       "1     19\n",
       "2     18\n",
       "3     15\n",
       "4     15\n",
       "5     18\n",
       "6     17\n",
       "7     20\n",
       "8     27\n",
       "9     22\n",
       "10    23\n",
       "11    22\n",
       "12    21\n",
       "13    33\n",
       "14    28\n",
       "15    14\n",
       "16    18\n",
       "17    16\n",
       "18    13\n",
       "Name: 12, dtype: int64"
      ]
     },
     "execution_count": 5,
     "metadata": {},
     "output_type": "execute_result"
    }
   ],
   "source": [
    "y = data.iloc[:, 0]\n",
    "y"
   ]
  },
  {
   "cell_type": "code",
   "execution_count": 6,
   "id": "c1217cb3",
   "metadata": {},
   "outputs": [
    {
     "name": "stdout",
     "output_type": "stream",
     "text": [
      "12    19.631579\n",
      "dtype: float64\n",
      "12    18.0\n",
      "dtype: float64\n",
      "12    18\n",
      "Name: 0, dtype: int64\n"
     ]
    }
   ],
   "source": [
    "df_csv = pd.read_csv('2.2 Table data.csv')\n",
    "\n",
    "# Mean\n",
    "mean_csv = df_csv.mean()\n",
    "print(mean_csv)\n",
    "\n",
    "# Median\n",
    "median_csv = df_csv.median()\n",
    "print(median_csv)\n",
    "\n",
    "# Mode\n",
    "mode_csv = df_csv.mode().iloc[0]\n",
    "print(mode_csv)\n"
   ]
  },
  {
   "cell_type": "code",
   "execution_count": 25,
   "id": "bc3bd727",
   "metadata": {},
   "outputs": [],
   "source": [
    "df_csv = pd.read_csv('2.2 Table data.csv')\n",
    "\n",
    "# Range\n",
    "range_csv = df_csv.max() - df_csv.min()\n",
    "\n",
    "# Interquartile Range (IQR)\n",
    "iqr_csv = df_csv.quantile(0.75) - df_csv.quantile(0.25)\n",
    "\n",
    "# Variance\n",
    "variance_csv = df_csv.var()\n",
    "\n",
    "# Standard Deviation\n",
    "std_dev_csv = df_csv.std()\n",
    "\n",
    "# Coefficient of Variation (CV)\n",
    "cv_csv = (std_dev_csv / df_csv.mean()) * 100\n"
   ]
  },
  {
   "cell_type": "code",
   "execution_count": null,
   "id": "013bd5ae",
   "metadata": {},
   "outputs": [],
   "source": [
    "# Height,Weight\n",
    "165,60\n",
    "170,72\n",
    "155,55\n",
    "172,68\n",
    "168,70\n",
    "175,75\n",
    "160,58\n",
    "180,82\n",
    "200,100\n",
    "\n",
    "# Convert this data into csv file and csv file name = data"
   ]
  },
  {
   "cell_type": "code",
   "execution_count": null,
   "id": "d677030b",
   "metadata": {},
   "outputs": [],
   "source": [
    "df_csv = pd.read_csv('data.csv')\n",
    "# Covariance Matrix\n",
    "cov_matrix = df.cov()\n",
    "print(\"Covariance Matrix:\\n\", cov_matrix)\n",
    "\n",
    "# Correlation Matrix\n",
    "corr_matrix = df.corr()\n",
    "print(\"\\nCorrelation Matrix:\\n\", corr_matrix)\n",
    "\n",
    "# Individual Covariance and Correlation\n",
    "cov = df[\"Height\"].cov(df[\"Weight\"])\n",
    "corr = df[\"Height\"].corr(df[\"Weight\"])\n",
    "print(\"\\nCovariance (Height vs Weight):\", cov)\n",
    "print(\"Correlation (Height vs Weight):\", corr)\n",
    "\n",
    "# Interpretation\n",
    "cov_interpretation = \"Positive relationship\" if cov_csv > 0 else \"Negative relationship\" if cov_csv < 0 else \"No relationship\"\n",
    "corr_interpretation = \"Strong relationship\" if abs(corr_csv) > 0.7 else \"Moderate relationship\" if 0.3 <= abs(corr_csv) <= 0.7 else \"Weak relationship\"\n"
   ]
  },
  {
   "cell_type": "code",
   "execution_count": 37,
   "id": "100ad565",
   "metadata": {
    "scrolled": true
   },
   "outputs": [
    {
     "data": {
      "image/png": "[encoded data removed]",
      "text/plain": [
       "<Figure size 640x480 with 1 Axes>"
      ]
     },
     "metadata": {},
     "output_type": "display_data"
    }
   ],
   "source": [
    "df_csv = pd.read_csv('2.2 Table data.csv')\n",
    "\n",
    "# Shape: Skewness & Kurtosis\n",
    "skew_csv = df_csv.skew()\n",
    "kurt_csv = df_csv.kurtosis()\n",
    "\n",
    "# Z-Scores\n",
    "df_csv['Z_Score'] = (df_csv - df_csv.mean()) / df_csv.std()\n",
    "\n",
    "# Detecting Outliers using Z-Score\n",
    "outliers_csv = df_csv[np.abs(df_csv['Z_Score']) > 3]\n",
    "\n",
    "# Empirical Rule\n",
    "mean_csv = df_csv.mean()\n",
    "std_csv = df_csv.std()\n",
    "empirical_csv = df_csv[(df_csv >= mean_csv - 3 * std_csv) & (df_csv <= mean_csv + 3 * std_csv)]\n",
    "\n",
    "# Box plot\n",
    "df.boxplot()\n",
    "plt.show()\n",
    "\n"
   ]
  },
  {
   "cell_type": "code",
   "execution_count": null,
   "id": "38505a45",
   "metadata": {},
   "outputs": [],
   "source": [
    "#Box Plot for Outlier Detection\n",
    "plt.figure(figsize=(6, 4))\n",
    "sns.boxplot(x= df_csv)\n",
    "plt.title('Box Plot - CSV File')\n",
    "plt.show()"
   ]
  }
 ],
 "metadata": {
  "kernelspec": {
   "display_name": "Python 3 (ipykernel)",
   "language": "python",
   "name": "python3"
  },
  "language_info": {
   "codemirror_mode": {
    "name": "ipython",
    "version": 3
   },
   "file_extension": ".py",
   "mimetype": "text/x-python",
   "name": "python",
   "nbconvert_exporter": "python",
   "pygments_lexer": "ipython3",
   "version": "3.13.5"
  }
 },
 "nbformat": 4,
 "nbformat_minor": 5
}
